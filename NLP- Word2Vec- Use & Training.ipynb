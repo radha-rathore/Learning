{
 "cells": [
  {
   "cell_type": "code",
   "execution_count": 1,
   "id": "86eca8ff",
   "metadata": {},
   "outputs": [],
   "source": [
    "import gensim\n",
    "from gensim.models import Word2Vec,KeyedVectors"
   ]
  },
  {
   "cell_type": "code",
   "execution_count": 2,
   "id": "7ca4909a",
   "metadata": {},
   "outputs": [
    {
     "name": "stdout",
     "output_type": "stream",
     "text": [
      "Collecting wget\n",
      "  Downloading wget-3.2.zip (10 kB)\n",
      "  Preparing metadata (setup.py): started\n",
      "  Preparing metadata (setup.py): finished with status 'done'\n",
      "Building wheels for collected packages: wget\n",
      "  Building wheel for wget (setup.py): started\n",
      "  Building wheel for wget (setup.py): finished with status 'done'\n",
      "  Created wheel for wget: filename=wget-3.2-py3-none-any.whl size=9680 sha256=60acb358a389f33fc0953d7c3b2fff71ebcf1ef33b3113cc6a8dc9aa77bac8bc\n",
      "  Stored in directory: c:\\users\\iamrr\\appdata\\local\\pip\\cache\\wheels\\40\\b3\\0f\\a40dbd1c6861731779f62cc4babcb234387e11d697df70ee97\n",
      "Successfully built wget\n",
      "Installing collected packages: wget\n",
      "Successfully installed wget-3.2\n"
     ]
    }
   ],
   "source": [
    "!pip install wget"
   ]
  },
  {
   "cell_type": "code",
   "execution_count": 3,
   "id": "481f0a26",
   "metadata": {},
   "outputs": [
    {
     "name": "stderr",
     "output_type": "stream",
     "text": [
      "'wget' is not recognized as an internal or external command,\n",
      "operable program or batch file.\n"
     ]
    }
   ],
   "source": [
    "!wget -c \"https://s3.amazonaws.com/dl4j-distribution/GoogleNews-vectors-negative300.bin.gz\""
   ]
  },
  {
   "cell_type": "code",
   "execution_count": 4,
   "id": "a174924a",
   "metadata": {},
   "outputs": [],
   "source": [
    "model = KeyedVectors.load_word2vec_format('GoogleNews-vectors-negative300.bin.gz',binary=True,limit=500000)"
   ]
  },
  {
   "cell_type": "code",
   "execution_count": null,
   "id": "407e1f5c",
   "metadata": {},
   "outputs": [],
   "source": [
    "model['cricket']"
   ]
  },
  {
   "cell_type": "code",
   "execution_count": null,
   "id": "1eed8625",
   "metadata": {},
   "outputs": [],
   "source": [
    "model.most_similar('man')"
   ]
  },
  {
   "cell_type": "code",
   "execution_count": null,
   "id": "111fa722",
   "metadata": {},
   "outputs": [],
   "source": [
    "model.most_similar('cricket')"
   ]
  },
  {
   "cell_type": "code",
   "execution_count": null,
   "id": "7a592963",
   "metadata": {},
   "outputs": [],
   "source": [
    "model.most_similar('facebook')"
   ]
  },
  {
   "cell_type": "code",
   "execution_count": null,
   "id": "db716345",
   "metadata": {},
   "outputs": [],
   "source": [
    "model.similarity('man','woman')"
   ]
  },
  {
   "cell_type": "code",
   "execution_count": null,
   "id": "d5e490e7",
   "metadata": {},
   "outputs": [],
   "source": [
    "model.similarity('man','PHP')"
   ]
  },
  {
   "cell_type": "code",
   "execution_count": null,
   "id": "cce68d42",
   "metadata": {},
   "outputs": [],
   "source": [
    "model.doesnt_match(['PHP','java','monkey'])"
   ]
  },
  {
   "cell_type": "code",
   "execution_count": null,
   "id": "8eeb2b35",
   "metadata": {},
   "outputs": [],
   "source": [
    "vec = model['king'] - model['man'] + model['woman']\n",
    "model.most_similar([vec])"
   ]
  },
  {
   "cell_type": "code",
   "execution_count": null,
   "id": "6a72376a",
   "metadata": {},
   "outputs": [],
   "source": [
    "vec = model['INR'] - model ['India'] + model['England']\n",
    "model.most_similar([vec])"
   ]
  },
  {
   "cell_type": "markdown",
   "id": "e0b75695",
   "metadata": {},
   "source": [
    "## Creating Custom Embdding - Training Word2Vec"
   ]
  },
  {
   "cell_type": "code",
   "execution_count": 1,
   "id": "eb9839d7",
   "metadata": {},
   "outputs": [],
   "source": [
    "import numpy as np\n",
    "import pandas as pd\n",
    "import gensim\n",
    "import os"
   ]
  },
  {
   "cell_type": "code",
   "execution_count": 2,
   "id": "52a60133",
   "metadata": {},
   "outputs": [],
   "source": [
    "import nltk\n",
    "# nltk.download()"
   ]
  },
  {
   "cell_type": "code",
   "execution_count": 3,
   "id": "b5413936",
   "metadata": {},
   "outputs": [],
   "source": [
    "from nltk import sent_tokenize\n",
    "from gensim.utils import simple_preprocess"
   ]
  },
  {
   "cell_type": "code",
   "execution_count": 4,
   "id": "dd6839d8",
   "metadata": {},
   "outputs": [],
   "source": [
    "story=[]\n",
    "\n",
    "for filename in os.listdir('data'):\n",
    "    f = open(os.path.join('data',filename), errors='ignore')\n",
    "    corpus = f.read()\n",
    "    raw_sent = sent_tokenize(corpus)\n",
    "    for sent in raw_sent: \n",
    "        story.append(simple_preprocess(sent))"
   ]
  },
  {
   "cell_type": "code",
   "execution_count": 5,
   "id": "19160dec",
   "metadata": {},
   "outputs": [
    {
     "data": {
      "text/plain": [
       "1845"
      ]
     },
     "execution_count": 5,
     "metadata": {},
     "output_type": "execute_result"
    }
   ],
   "source": [
    "len(story)"
   ]
  },
  {
   "cell_type": "code",
   "execution_count": 7,
   "id": "ac45335d",
   "metadata": {},
   "outputs": [
    {
     "data": {
      "text/plain": [
       "[['the',\n",
       "  'hindi',\n",
       "  'language',\n",
       "  'film',\n",
       "  'industry',\n",
       "  'bollywood',\n",
       "  'is',\n",
       "  'the',\n",
       "  'largest',\n",
       "  'sector',\n",
       "  'representing',\n",
       "  'of',\n",
       "  'box',\n",
       "  'office',\n",
       "  'revenue',\n",
       "  'followed',\n",
       "  'by',\n",
       "  'the',\n",
       "  'south',\n",
       "  'indian',\n",
       "  'telugu',\n",
       "  'and',\n",
       "  'tamil',\n",
       "  'film',\n",
       "  'industries',\n",
       "  'which',\n",
       "  'represent',\n",
       "  'combined'],\n",
       " ['television',\n",
       "  'broadcasting',\n",
       "  'began',\n",
       "  'in',\n",
       "  'india',\n",
       "  'in',\n",
       "  'as',\n",
       "  'state',\n",
       "  'run',\n",
       "  'medium',\n",
       "  'of',\n",
       "  'communication',\n",
       "  'and',\n",
       "  'expanded',\n",
       "  'slowly',\n",
       "  'for',\n",
       "  'more',\n",
       "  'than',\n",
       "  'two',\n",
       "  'decades'],\n",
       " ['the',\n",
       "  'state',\n",
       "  'monopoly',\n",
       "  'on',\n",
       "  'television',\n",
       "  'broadcast',\n",
       "  'ended',\n",
       "  'in',\n",
       "  'the'],\n",
       " ['since',\n",
       "  'then',\n",
       "  'satellite',\n",
       "  'channels',\n",
       "  'have',\n",
       "  'increasingly',\n",
       "  'shaped',\n",
       "  'the',\n",
       "  'popular',\n",
       "  'culture',\n",
       "  'of',\n",
       "  'indian',\n",
       "  'society'],\n",
       " ['today',\n",
       "  'television',\n",
       "  'is',\n",
       "  'the',\n",
       "  'most',\n",
       "  'penetrative',\n",
       "  'media',\n",
       "  'in',\n",
       "  'india',\n",
       "  'industry',\n",
       "  'estimates',\n",
       "  'indicate',\n",
       "  'that',\n",
       "  'as',\n",
       "  'of',\n",
       "  'there',\n",
       "  'are',\n",
       "  'over',\n",
       "  'million',\n",
       "  'tv',\n",
       "  'consumers',\n",
       "  'million',\n",
       "  'with',\n",
       "  'satellite',\n",
       "  'or',\n",
       "  'cable',\n",
       "  'connections',\n",
       "  'compared',\n",
       "  'to',\n",
       "  'other',\n",
       "  'forms',\n",
       "  'of',\n",
       "  'mass',\n",
       "  'media',\n",
       "  'such',\n",
       "  'as',\n",
       "  'the',\n",
       "  'press',\n",
       "  'million',\n",
       "  'radio',\n",
       "  'million',\n",
       "  'or',\n",
       "  'internet',\n",
       "  'million']]"
      ]
     },
     "execution_count": 7,
     "metadata": {},
     "output_type": "execute_result"
    }
   ],
   "source": [
    "story[450:455]"
   ]
  },
  {
   "cell_type": "code",
   "execution_count": 9,
   "id": "ea6767db",
   "metadata": {},
   "outputs": [],
   "source": [
    "model = gensim.models.Word2Vec(window = 10, min_count=2 )"
   ]
  },
  {
   "cell_type": "code",
   "execution_count": 10,
   "id": "d80f5500",
   "metadata": {},
   "outputs": [],
   "source": [
    "model.build_vocab(story)"
   ]
  },
  {
   "cell_type": "code",
   "execution_count": 11,
   "id": "9c1ecaf1",
   "metadata": {},
   "outputs": [
    {
     "data": {
      "text/plain": [
       "(78104, 119825)"
      ]
     },
     "execution_count": 11,
     "metadata": {},
     "output_type": "execute_result"
    }
   ],
   "source": [
    "model.train(story, total_examples=model.corpus_count, epochs= model.epochs)"
   ]
  },
  {
   "cell_type": "code",
   "execution_count": 12,
   "id": "2d05fe40",
   "metadata": {},
   "outputs": [
    {
     "data": {
      "text/plain": [
       "[('at', 0.9996517300605774),\n",
       " ('india', 0.9996280670166016),\n",
       " ('and', 0.9996163845062256),\n",
       " ('is', 0.99960857629776),\n",
       " ('the', 0.9996082782745361),\n",
       " ('for', 0.9996018409729004),\n",
       " ('isbn', 0.9995977282524109),\n",
       " ('of', 0.9995971918106079),\n",
       " ('in', 0.9995964169502258),\n",
       " ('were', 0.999594509601593)]"
      ]
     },
     "execution_count": 12,
     "metadata": {},
     "output_type": "execute_result"
    }
   ],
   "source": [
    "model.wv.most_similar('country')"
   ]
  },
  {
   "cell_type": "code",
   "execution_count": 13,
   "id": "435de651",
   "metadata": {},
   "outputs": [
    {
     "data": {
      "text/plain": [
       "'country'"
      ]
     },
     "execution_count": 13,
     "metadata": {},
     "output_type": "execute_result"
    }
   ],
   "source": [
    "model.wv.doesnt_match(['country', 'India', 'peacock'])"
   ]
  },
  {
   "cell_type": "code",
   "execution_count": 15,
   "id": "dcaaea45",
   "metadata": {},
   "outputs": [
    {
     "data": {
      "text/plain": [
       "array([-0.20378768,  0.24226476,  0.00933884,  0.0205521 , -0.08446123,\n",
       "       -0.4073579 ,  0.19092621,  0.55006814, -0.3158824 , -0.26574183,\n",
       "       -0.13636722, -0.50642514, -0.20112841,  0.18914782, -0.06000892,\n",
       "       -0.29944947,  0.13901417, -0.23497206, -0.1943088 , -0.37444574,\n",
       "        0.20935194,  0.1904358 ,  0.19806674, -0.20298167, -0.05005468,\n",
       "       -0.10278163, -0.19161196,  0.02146224, -0.35935158,  0.13857745,\n",
       "        0.25917876, -0.11902053,  0.12840399, -0.3227692 , -0.16334318,\n",
       "        0.18212274,  0.01266352, -0.16327833, -0.12829192, -0.4014179 ,\n",
       "        0.05075281, -0.24381453, -0.23486465, -0.09045417,  0.21633492,\n",
       "       -0.11531442, -0.20721376, -0.08497533,  0.18005459,  0.28392345,\n",
       "        0.16076352, -0.31119558, -0.1309747 , -0.13523632, -0.13980545,\n",
       "        0.20172031,  0.2021633 , -0.11393323, -0.2755393 ,  0.07142593,\n",
       "        0.06429809, -0.06664514,  0.05205191, -0.13169634, -0.35776088,\n",
       "        0.35596234, -0.03935904,  0.22591071, -0.3296752 ,  0.3306715 ,\n",
       "       -0.06287618, -0.00511951,  0.36860943, -0.10761344,  0.3084587 ,\n",
       "       -0.01156798,  0.04339952, -0.00844221, -0.19967932, -0.01610302,\n",
       "       -0.16129956, -0.0093516 , -0.16262719,  0.36941528, -0.1228915 ,\n",
       "       -0.10795677,  0.16139357,  0.12380761,  0.39291668,  0.13517587,\n",
       "        0.28341988,  0.00130628,  0.14476255, -0.1453116 ,  0.37048617,\n",
       "        0.19554451,  0.2008882 , -0.27158317,  0.14922094,  0.0717423 ],\n",
       "      dtype=float32)"
      ]
     },
     "execution_count": 15,
     "metadata": {},
     "output_type": "execute_result"
    }
   ],
   "source": [
    "model.wv['country']"
   ]
  },
  {
   "cell_type": "code",
   "execution_count": null,
   "id": "11a42f8c",
   "metadata": {},
   "outputs": [],
   "source": []
  }
 ],
 "metadata": {
  "kernelspec": {
   "display_name": "Python 3 (ipykernel)",
   "language": "python",
   "name": "python3"
  },
  "language_info": {
   "codemirror_mode": {
    "name": "ipython",
    "version": 3
   },
   "file_extension": ".py",
   "mimetype": "text/x-python",
   "name": "python",
   "nbconvert_exporter": "python",
   "pygments_lexer": "ipython3",
   "version": "3.11.5"
  }
 },
 "nbformat": 4,
 "nbformat_minor": 5
}
